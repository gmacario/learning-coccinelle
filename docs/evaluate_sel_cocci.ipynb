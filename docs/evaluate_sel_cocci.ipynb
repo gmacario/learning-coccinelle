{
 "cells": [
  {
   "cell_type": "markdown",
   "metadata": {},
   "source": [
    "# Evaluating Coccinelle Semantic Patches in linux-mainline"
   ]
  },
  {
   "cell_type": "markdown",
   "metadata": {},
   "source": [
    "### Setting up the notebook"
   ]
  },
  {
   "cell_type": "code",
   "execution_count": 89,
   "metadata": {},
   "outputs": [],
   "source": [
    "import json\n",
    "import calendar\n",
    "import random\n",
    "from datetime import date, timedelta\n",
    "\n",
    "import faker\n",
    "import numpy as np\n",
    "from pandas import DataFrame\n",
    "from delorean import parse\n",
    "import pandas as pd"
   ]
  },
  {
   "cell_type": "markdown",
   "metadata": {},
   "source": [
    "### Preparing the data"
   ]
  },
  {
   "cell_type": "code",
   "execution_count": 90,
   "metadata": {},
   "outputs": [],
   "source": [
    "# Dictionary listing all Semantic Patches in linux-4.14-rc6\n",
    "# TODO: Should refactor into file 'cocci_linux_4_14_rc6.json'\n",
    "\n",
    "cocci_linux_4_14_rc6 = {\n",
    "    'info': {\n",
    "        'repository': 'linux-4.14-rc6'\n",
    "    },\n",
    "    'scripts': [\n",
    "        {\n",
    "            'path': 'scripts/coccinelle/api/alloc',\n",
    "            'filename': 'alloc_cast.cocci',\n",
    "            'confidence': 'High',\n",
    "            'description': \"Remove casting the values returned by memory allocation functions like \"\n",
    "                \"kmalloc, kzalloc, kmem_cache_alloc, kmem_cache_zalloc etc. \"\n",
    "                \"This makes an effort to find cases of casting of values returned \"\n",
    "                \"by kmalloc, kzalloc, kcalloc, kmem_cache_alloc, kmem_cache_zalloc, \"\n",
    "                \"kmem_cache_alloc_node, kmalloc_node and kzalloc_node and removes the casting \"\n",
    "                \"as it is not required. The result in the patch case may need some reformatting.\"\n",
    "        },\n",
    "        {\n",
    "            'path': 'scripts/coccinelle/api/alloc',\n",
    "            'filename': 'kzalloc_simple.cocci',\n",
    "            'confidence': 'High',\n",
    "            'description': \"\"\"use kzalloc rather than...\"\"\"\n",
    "        },\n",
    "        {\n",
    "            'path': 'scripts/coccinelle/api/alloc',\n",
    "            'filename': 'pool_zalloc_simple.cocci',\n",
    "            'confidence': 'N.A.',\n",
    "            'description': \"\"\"Use *_pool_zalloc rather than...\"\"\"\n",
    "        },\n",
    "        # TODO\n",
    "    ]\n",
    "}\n",
    "\n",
    "# cocci_linux_4_14_rc6"
   ]
  },
  {
   "cell_type": "code",
   "execution_count": 91,
   "metadata": {},
   "outputs": [
    {
     "name": "stdout",
     "output_type": "stream",
     "text": [
      "{'info': {'repository': 'linux-4.14-rc6'}, 'scripts': [{'path': 'scripts/coccinelle/api/alloc', 'filename': 'alloc_cast.cocci', 'confidence': 'High', 'description': 'Remove casting the values returned by memory allocation functions like kmalloc, kzalloc, kmem_cache_alloc, kmem_cache_zalloc etc. This makes an effort to find cases of casting of values returned by kmalloc, kzalloc, kcalloc, kmem_cache_alloc, kmem_cache_zalloc, kmem_cache_alloc_node, kmalloc_node and kzalloc_node and removes the casting as it is not required. The result in the patch case may need some reformatting.'}, {'path': 'scripts/coccinelle/api/alloc', 'filename': 'kzalloc_simple.cocci', 'confidence': 'High', 'description': 'use kzalloc rather than...'}, {'path': 'scripts/coccinelle/api/alloc', 'filename': 'pool_zalloc_simple.cocci', 'confidence': 'N.A.', 'description': 'Use *_pool_zalloc rather than...'}]}\n"
     ]
    },
    {
     "data": {
      "text/plain": [
       "3"
      ]
     },
     "execution_count": 91,
     "metadata": {},
     "output_type": "execute_result"
    }
   ],
   "source": [
    "print(cocci_linux_4_14_rc6)\n",
    "len(cocci_linux_4_14_rc6['scripts'])"
   ]
  },
  {
   "cell_type": "code",
   "execution_count": 92,
   "metadata": {},
   "outputs": [],
   "source": [
    "# Report against linux-4.14-rc6 full-tree\n",
    "\n",
    "report_linux_4_14_rc6_fulltree = {\n",
    "    'info': {\n",
    "        'note': \"\"\"Report against linux-4.14-rc6 full-tree\"\"\",\n",
    "        'script_start': 'Thu Oct  5 13:11:29 CEST 2017',\n",
    "        'src_sha': 'd81fa669e3de7eb8a631d7d95dac5fbcb2bf9d4e',\n",
    "    },\n",
    "    'statistics': [\n",
    "        {'filename': 'alloc_cast.cocci',         'L':  13, 'W':  0, 'E': 0},\n",
    "        {'filename': 'kzalloc-simple.cocci',     'L':   4, 'W':  4, 'E': 0},\n",
    "        {'filename': 'pool_zalloc-simple.cocci', 'L':  22, 'W': 22, 'E': 0}, \n",
    "        # TODO\n",
    "    ]\n",
    "}"
   ]
  },
  {
   "cell_type": "code",
   "execution_count": 93,
   "metadata": {},
   "outputs": [],
   "source": [
    "# Report against linux-4.4.50 minimzed-tree\n",
    "\n",
    "report_linux_4_4_50_minimizedtree = {\n",
    "    'info': {\n",
    "        'note': \"\"\"Report against linux-4.4.50 minimzed-tree\"\"\",\n",
    "        'script_start': 'Mon Oct 23 16:29:52 IST 2017',\n",
    "        'cocci_sha': '9e66317d3c92ddaab330c125dfe9d06eee268aff',\n",
    "        'src_sha': '90dcab23bbc81fbfa25dfdb91d4ce974a69bd210',\n",
    "    },\n",
    "    'statistics': [\n",
    "        {'filename': 'alloc_cast.cocci',         'L':  2, 'W': 0, 'E': 0},\n",
    "        {'filename': 'kzalloc-simple.cocci',     'L':  0, 'W': 0, 'E': 0},\n",
    "        {'filename': 'pool_zalloc-simple.cocci', 'L':  5, 'W': 0, 'E': 0}, \n",
    "        # TODO\n",
    "    ]\n",
    "}"
   ]
  },
  {
   "cell_type": "markdown",
   "metadata": {},
   "source": [
    "### Creating the DataFrame"
   ]
  },
  {
   "cell_type": "code",
   "execution_count": 94,
   "metadata": {},
   "outputs": [
    {
     "name": "stdout",
     "output_type": "stream",
     "text": [
      "RangeIndex(start=0, stop=3, step=1)\n",
      "\n",
      "0            alloc_cast.cocci\n",
      "1        kzalloc_simple.cocci\n",
      "2    pool_zalloc_simple.cocci\n",
      "Name: filename, dtype: object\n",
      "\n"
     ]
    }
   ],
   "source": [
    "data = cocci_linux_4_14_rc6['scripts']\n",
    "df = DataFrame(data) # , index=cocci_linux_4_14_rc6['scripts']['filename']\n",
    "\n",
    "print(df.index)\n",
    "print()\n",
    "print(df.filename)\n",
    "print()\n",
    "# df.head()"
   ]
  },
  {
   "cell_type": "code",
   "execution_count": 95,
   "metadata": {},
   "outputs": [
    {
     "data": {
      "text/plain": [
       "confidence     3\n",
       "description    3\n",
       "filename       3\n",
       "path           3\n",
       "dtype: int64"
      ]
     },
     "execution_count": 95,
     "metadata": {},
     "output_type": "execute_result"
    }
   ],
   "source": [
    "df.count()\n",
    "#df.describe()"
   ]
  },
  {
   "cell_type": "code",
   "execution_count": 96,
   "metadata": {},
   "outputs": [
    {
     "data": {
      "text/plain": [
       "'[{\"path\": \"scripts/coccinelle/api/alloc\", \"filename\": \"alloc_cast.cocci\", \"confidence\": \"High\", \"description\": \"Remove casting the values returned by memory allocation functions like kmalloc, kzalloc, kmem_cache_alloc, kmem_cache_zalloc etc. This makes an effort to find cases of casting of values returned by kmalloc, kzalloc, kcalloc, kmem_cache_alloc, kmem_cache_zalloc, kmem_cache_alloc_node, kmalloc_node and kzalloc_node and removes the casting as it is not required. The result in the patch case may need some reformatting.\"}, {\"path\": \"scripts/coccinelle/api/alloc\", \"filename\": \"kzalloc_simple.cocci\", \"confidence\": \"High\", \"description\": \"use kzalloc rather than...\"}, {\"path\": \"scripts/coccinelle/api/alloc\", \"filename\": \"pool_zalloc_simple.cocci\", \"confidence\": \"N.A.\", \"description\": \"Use *_pool_zalloc rather than...\"}]'"
      ]
     },
     "execution_count": 96,
     "metadata": {},
     "output_type": "execute_result"
    }
   ],
   "source": [
    "json.dumps(data)"
   ]
  }
 ],
 "metadata": {
  "kernelspec": {
   "display_name": "Python 3",
   "language": "python",
   "name": "python3"
  },
  "language_info": {
   "codemirror_mode": {
    "name": "ipython",
    "version": 3
   },
   "file_extension": ".py",
   "mimetype": "text/x-python",
   "name": "python",
   "nbconvert_exporter": "python",
   "pygments_lexer": "ipython3",
   "version": "3.6.3"
  }
 },
 "nbformat": 4,
 "nbformat_minor": 2
}
