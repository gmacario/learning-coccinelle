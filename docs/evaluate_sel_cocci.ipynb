{
 "cells": [
  {
   "cell_type": "markdown",
   "metadata": {},
   "source": [
    "# Evaluating Coccinelle Semantic Patches in linux-mainline"
   ]
  },
  {
   "cell_type": "markdown",
   "metadata": {},
   "source": [
    "### Setting up the notebook"
   ]
  },
  {
   "cell_type": "code",
   "execution_count": 1,
   "metadata": {},
   "outputs": [],
   "source": [
    "# Import all needed libraries\n",
    "import json\n",
    "import calendar\n",
    "import random\n",
    "import os\n",
    "import sys\n",
    "from datetime import date, timedelta\n",
    "\n",
    "import faker\n",
    "import numpy as np\n",
    "import pandas as pd\n",
    "from pandas import DataFrame, read_csv\n",
    "from delorean import parse\n",
    "import matplotlib\n",
    "\n",
    "# Enable inline plotting\n",
    "%matplotlib inline"
   ]
  },
  {
   "cell_type": "code",
   "execution_count": 2,
   "metadata": {},
   "outputs": [
    {
     "name": "stdout",
     "output_type": "stream",
     "text": [
      "Python version 3.6.3 (v3.6.3:2c5fed8, Oct  3 2017, 18:11:49) [MSC v.1900 64 bit (AMD64)]\n",
      "Pandas version 0.20.3\n",
      "Matplotlib version 2.1.0\n"
     ]
    }
   ],
   "source": [
    "print('Python version ' + sys.version)\n",
    "print('Pandas version ' + pd.__version__)\n",
    "print('Matplotlib version ' + matplotlib.__version__)"
   ]
  },
  {
   "cell_type": "markdown",
   "metadata": {},
   "source": [
    "### Preparing the data"
   ]
  },
  {
   "cell_type": "code",
   "execution_count": 3,
   "metadata": {},
   "outputs": [],
   "source": [
    "# Dictionary listing all Semantic Patches in linux-4.14-rc6\n",
    "# TODO: Should refactor into file 'cocci_linux_4_14_rc6.json'\n",
    "\n",
    "cocci_linux_4_14_rc6 = {\n",
    "    'info': {\n",
    "        'repository': 'linux-4.14-rc6'\n",
    "    },\n",
    "    'scripts': [\n",
    "        {\n",
    "            'path': 'scripts/coccinelle/api/alloc',\n",
    "            'filename': 'alloc_cast.cocci',\n",
    "            'confidence': 'High',\n",
    "            'description': \"Remove casting the values returned by memory allocation functions like \"\n",
    "                \"kmalloc, kzalloc, kmem_cache_alloc, kmem_cache_zalloc etc. \"\n",
    "                \"This makes an effort to find cases of casting of values returned \"\n",
    "                \"by kmalloc, kzalloc, kcalloc, kmem_cache_alloc, kmem_cache_zalloc, \"\n",
    "                \"kmem_cache_alloc_node, kmalloc_node and kzalloc_node and removes the casting \"\n",
    "                \"as it is not required. The result in the patch case may need some reformatting.\"\n",
    "        },\n",
    "        {\n",
    "            'path': 'scripts/coccinelle/api/alloc',\n",
    "            'filename': 'kzalloc_simple.cocci',\n",
    "            'confidence': 'High',\n",
    "            'description': \"\"\"use kzalloc rather than...\"\"\"\n",
    "        },\n",
    "        {\n",
    "            'path': 'scripts/coccinelle/api/alloc',\n",
    "            'filename': 'pool_zalloc_simple.cocci',\n",
    "            'confidence': 'N.A.',\n",
    "            'description': \"\"\"Use *_pool_zalloc rather than...\"\"\"\n",
    "        },\n",
    "        # TODO\n",
    "    ]\n",
    "}\n",
    "\n",
    "# cocci_linux_4_14_rc6"
   ]
  },
  {
   "cell_type": "code",
   "execution_count": 4,
   "metadata": {},
   "outputs": [
    {
     "name": "stdout",
     "output_type": "stream",
     "text": [
      "{'info': {'repository': 'linux-4.14-rc6'}, 'scripts': [{'path': 'scripts/coccinelle/api/alloc', 'filename': 'alloc_cast.cocci', 'confidence': 'High', 'description': 'Remove casting the values returned by memory allocation functions like kmalloc, kzalloc, kmem_cache_alloc, kmem_cache_zalloc etc. This makes an effort to find cases of casting of values returned by kmalloc, kzalloc, kcalloc, kmem_cache_alloc, kmem_cache_zalloc, kmem_cache_alloc_node, kmalloc_node and kzalloc_node and removes the casting as it is not required. The result in the patch case may need some reformatting.'}, {'path': 'scripts/coccinelle/api/alloc', 'filename': 'kzalloc_simple.cocci', 'confidence': 'High', 'description': 'use kzalloc rather than...'}, {'path': 'scripts/coccinelle/api/alloc', 'filename': 'pool_zalloc_simple.cocci', 'confidence': 'N.A.', 'description': 'Use *_pool_zalloc rather than...'}]}\n"
     ]
    },
    {
     "data": {
      "text/plain": [
       "3"
      ]
     },
     "execution_count": 4,
     "metadata": {},
     "output_type": "execute_result"
    }
   ],
   "source": [
    "print(cocci_linux_4_14_rc6)\n",
    "len(cocci_linux_4_14_rc6['scripts'])"
   ]
  },
  {
   "cell_type": "markdown",
   "metadata": {},
   "source": [
    "### Creating the DataFrame for cocci_linux_4_14_rc6"
   ]
  },
  {
   "cell_type": "code",
   "execution_count": 5,
   "metadata": {},
   "outputs": [],
   "source": [
    "data = cocci_linux_4_14_rc6['scripts']\n",
    "df = DataFrame(data) # , index=cocci_linux_4_14_rc6['scripts']['filename']\n",
    "\n",
    "#df.count()\n",
    "#df.describe()\n",
    "#json.dumps(data)\n",
    "#print(df.index)\n",
    "#print()\n",
    "#print(df.filename)\n",
    "#print()\n",
    "\n",
    "#df.head()"
   ]
  },
  {
   "cell_type": "code",
   "execution_count": 6,
   "metadata": {},
   "outputs": [
    {
     "data": {
      "text/html": [
       "<div>\n",
       "<style>\n",
       "    .dataframe thead tr:only-child th {\n",
       "        text-align: right;\n",
       "    }\n",
       "\n",
       "    .dataframe thead th {\n",
       "        text-align: left;\n",
       "    }\n",
       "\n",
       "    .dataframe tbody tr th {\n",
       "        vertical-align: top;\n",
       "    }\n",
       "</style>\n",
       "<table border=\"1\" class=\"dataframe\">\n",
       "  <thead>\n",
       "    <tr style=\"text-align: right;\">\n",
       "      <th></th>\n",
       "      <th>path</th>\n",
       "      <th>filename</th>\n",
       "      <th>confidence</th>\n",
       "      <th>description</th>\n",
       "    </tr>\n",
       "  </thead>\n",
       "  <tbody>\n",
       "    <tr>\n",
       "      <th>0</th>\n",
       "      <td>scripts/coccinelle/api/alloc</td>\n",
       "      <td>alloc_cast.cocci</td>\n",
       "      <td>High</td>\n",
       "      <td>Remove casting the values returned by memory a...</td>\n",
       "    </tr>\n",
       "    <tr>\n",
       "      <th>1</th>\n",
       "      <td>scripts/coccinelle/api/alloc</td>\n",
       "      <td>kzalloc_simple.cocci</td>\n",
       "      <td>High</td>\n",
       "      <td>use kzalloc rather than...</td>\n",
       "    </tr>\n",
       "    <tr>\n",
       "      <th>2</th>\n",
       "      <td>scripts/coccinelle/api/alloc</td>\n",
       "      <td>pool_zalloc_simple.cocci</td>\n",
       "      <td>N.A.</td>\n",
       "      <td>Use *_pool_zalloc rather than...</td>\n",
       "    </tr>\n",
       "  </tbody>\n",
       "</table>\n",
       "</div>"
      ],
      "text/plain": [
       "                           path                  filename confidence  \\\n",
       "0  scripts/coccinelle/api/alloc          alloc_cast.cocci       High   \n",
       "1  scripts/coccinelle/api/alloc      kzalloc_simple.cocci       High   \n",
       "2  scripts/coccinelle/api/alloc  pool_zalloc_simple.cocci       N.A.   \n",
       "\n",
       "                                         description  \n",
       "0  Remove casting the values returned by memory a...  \n",
       "1                         use kzalloc rather than...  \n",
       "2                   Use *_pool_zalloc rather than...  "
      ]
     },
     "execution_count": 6,
     "metadata": {},
     "output_type": "execute_result"
    }
   ],
   "source": [
    "# Rearrange columns\n",
    "cols = ['path', 'filename', 'confidence', 'description']\n",
    "df = df[cols]\n",
    "\n",
    "df"
   ]
  },
  {
   "cell_type": "code",
   "execution_count": 7,
   "metadata": {},
   "outputs": [],
   "source": [
    "# Export the dataframe to an Excel file\n",
    "#df.to_excel('test.xls')"
   ]
  },
  {
   "cell_type": "markdown",
   "metadata": {},
   "source": [
    "### Creating DataFrames for instrument-coccicheck reports "
   ]
  },
  {
   "cell_type": "code",
   "execution_count": 8,
   "metadata": {},
   "outputs": [],
   "source": [
    "# Report against linux-4.14-rc6 full-tree\n",
    "\n",
    "report_linux_4_14_rc6_fulltree = {\n",
    "    'info': {\n",
    "        'note': \"\"\"Report against linux-4.14-rc6 full-tree\"\"\",\n",
    "        'script_start': 'Thu Oct  5 13:11:29 CEST 2017',\n",
    "        'src_sha': 'd81fa669e3de7eb8a631d7d95dac5fbcb2bf9d4e',\n",
    "    },\n",
    "    'statistics': [\n",
    "        {'filename': 'alloc_cast.cocci',         'L':  13, 'W':  0, 'E': 0},\n",
    "        {'filename': 'kzalloc-simple.cocci',     'L':   4, 'W':  4, 'E': 0},\n",
    "        {'filename': 'pool_zalloc-simple.cocci', 'L':  22, 'W': 22, 'E': 0}, \n",
    "        # TODO\n",
    "    ]\n",
    "}"
   ]
  },
  {
   "cell_type": "code",
   "execution_count": 9,
   "metadata": {},
   "outputs": [
    {
     "data": {
      "text/html": [
       "<div>\n",
       "<style>\n",
       "    .dataframe thead tr:only-child th {\n",
       "        text-align: right;\n",
       "    }\n",
       "\n",
       "    .dataframe thead th {\n",
       "        text-align: left;\n",
       "    }\n",
       "\n",
       "    .dataframe tbody tr th {\n",
       "        vertical-align: top;\n",
       "    }\n",
       "</style>\n",
       "<table border=\"1\" class=\"dataframe\">\n",
       "  <thead>\n",
       "    <tr style=\"text-align: right;\">\n",
       "      <th></th>\n",
       "      <th>filename</th>\n",
       "      <th>L</th>\n",
       "      <th>W</th>\n",
       "      <th>E</th>\n",
       "    </tr>\n",
       "  </thead>\n",
       "  <tbody>\n",
       "    <tr>\n",
       "      <th>0</th>\n",
       "      <td>alloc_cast.cocci</td>\n",
       "      <td>13</td>\n",
       "      <td>0</td>\n",
       "      <td>0</td>\n",
       "    </tr>\n",
       "    <tr>\n",
       "      <th>1</th>\n",
       "      <td>kzalloc-simple.cocci</td>\n",
       "      <td>4</td>\n",
       "      <td>4</td>\n",
       "      <td>0</td>\n",
       "    </tr>\n",
       "    <tr>\n",
       "      <th>2</th>\n",
       "      <td>pool_zalloc-simple.cocci</td>\n",
       "      <td>22</td>\n",
       "      <td>22</td>\n",
       "      <td>0</td>\n",
       "    </tr>\n",
       "  </tbody>\n",
       "</table>\n",
       "</div>"
      ],
      "text/plain": [
       "                   filename   L   W  E\n",
       "0          alloc_cast.cocci  13   0  0\n",
       "1      kzalloc-simple.cocci   4   4  0\n",
       "2  pool_zalloc-simple.cocci  22  22  0"
      ]
     },
     "execution_count": 9,
     "metadata": {},
     "output_type": "execute_result"
    }
   ],
   "source": [
    "data2_full = DataFrame(report_linux_4_14_rc6_fulltree['statistics'])\n",
    "data2_full = data2_full[['filename','L', 'W', 'E']]\n",
    "\n",
    "data2_full"
   ]
  },
  {
   "cell_type": "code",
   "execution_count": 10,
   "metadata": {},
   "outputs": [],
   "source": [
    "#data2_full.plot()\n",
    "#data2_full[['L', 'W', 'E']].plot()\n",
    "#data2_full[['filename','L', 'W', 'E']].plot(kind='bar')\n",
    "\n",
    "#len(data2_full['filename'].unique())"
   ]
  },
  {
   "cell_type": "code",
   "execution_count": 11,
   "metadata": {},
   "outputs": [],
   "source": [
    "# Report against linux-4.4.50 minimized-tree\n",
    "\n",
    "report_linux_4_4_50_minimizedtree = {\n",
    "    'info': {\n",
    "        'note': \"\"\"Report against linux-4.4.50 minimzed-tree\"\"\",\n",
    "        'script_start': 'Mon Oct 23 16:29:52 IST 2017',\n",
    "        'cocci_sha': '9e66317d3c92ddaab330c125dfe9d06eee268aff',\n",
    "        'src_sha': '90dcab23bbc81fbfa25dfdb91d4ce974a69bd210',\n",
    "    },\n",
    "    'statistics': [\n",
    "        {'filename': 'alloc_cast.cocci',         'L':  2, 'W': 0, 'E': 0},\n",
    "        {'filename': 'kzalloc-simple.cocci',     'L':  0, 'W': 0, 'E': 0},\n",
    "        {'filename': 'pool_zalloc-simple.cocci', 'L':  5, 'W': 0, 'E': 0}, \n",
    "        # TODO\n",
    "    ]\n",
    "}"
   ]
  },
  {
   "cell_type": "code",
   "execution_count": 12,
   "metadata": {},
   "outputs": [
    {
     "data": {
      "text/html": [
       "<div>\n",
       "<style>\n",
       "    .dataframe thead tr:only-child th {\n",
       "        text-align: right;\n",
       "    }\n",
       "\n",
       "    .dataframe thead th {\n",
       "        text-align: left;\n",
       "    }\n",
       "\n",
       "    .dataframe tbody tr th {\n",
       "        vertical-align: top;\n",
       "    }\n",
       "</style>\n",
       "<table border=\"1\" class=\"dataframe\">\n",
       "  <thead>\n",
       "    <tr style=\"text-align: right;\">\n",
       "      <th></th>\n",
       "      <th>filename</th>\n",
       "      <th>L</th>\n",
       "      <th>W</th>\n",
       "      <th>E</th>\n",
       "    </tr>\n",
       "  </thead>\n",
       "  <tbody>\n",
       "    <tr>\n",
       "      <th>0</th>\n",
       "      <td>alloc_cast.cocci</td>\n",
       "      <td>2</td>\n",
       "      <td>0</td>\n",
       "      <td>0</td>\n",
       "    </tr>\n",
       "    <tr>\n",
       "      <th>1</th>\n",
       "      <td>kzalloc-simple.cocci</td>\n",
       "      <td>0</td>\n",
       "      <td>0</td>\n",
       "      <td>0</td>\n",
       "    </tr>\n",
       "    <tr>\n",
       "      <th>2</th>\n",
       "      <td>pool_zalloc-simple.cocci</td>\n",
       "      <td>5</td>\n",
       "      <td>0</td>\n",
       "      <td>0</td>\n",
       "    </tr>\n",
       "  </tbody>\n",
       "</table>\n",
       "</div>"
      ],
      "text/plain": [
       "                   filename  L  W  E\n",
       "0          alloc_cast.cocci  2  0  0\n",
       "1      kzalloc-simple.cocci  0  0  0\n",
       "2  pool_zalloc-simple.cocci  5  0  0"
      ]
     },
     "execution_count": 12,
     "metadata": {},
     "output_type": "execute_result"
    }
   ],
   "source": [
    "data3_minimized = DataFrame(report_linux_4_4_50_minimizedtree['statistics'])\n",
    "data3_minimized = data3_minimized[['filename','L', 'W', 'E']]\n",
    "\n",
    "data3_minimized"
   ]
  },
  {
   "cell_type": "markdown",
   "metadata": {},
   "source": [
    "### Assigning estimated safety relevance to cocci scripts"
   ]
  },
  {
   "cell_type": "code",
   "execution_count": 13,
   "metadata": {},
   "outputs": [],
   "source": [
    "my_safetyrel_cocci = {\n",
    "    'info': {\n",
    "        # TODO\n",
    "    },\n",
    "    # rel: Safety Relevance (1=Highest, 9=lowest)\n",
    "    'values': [\n",
    "        {'filename': 'alloc_cast.cocci',            'rel': 5, 'notes': ''},\n",
    "        {'filename': 'kzalloc-simple.cocci',        'rel': 5, 'notes': ''},\n",
    "        {'filename': 'pool_zalloc-simple.cocci',    'rel': 8, 'notes': ''},\n",
    "        {'filename': 'd_find_alias.cocci',          'rel': 3, 'notes': ''},\n",
    "        {'filename': 'debugfs_simple_attr.cocci',   'rel': 6, 'notes': ''},\n",
    "        {'filename': 'drm-get-pub.cocci',           'rel': 6, 'notes': ''},\n",
    "        {'filename': 'err_cast.cocci',              'rel': 5, 'notes': ''},\n",
    "        {'filename': 'kstrdup.cocci',               'rel': 4, 'notes': ''},\n",
    "        {'filename': 'memdup.cocci',                'rel': 4, 'notes': ''},\n",
    "        {'filename': 'memdup_user.cocci',           'rel': 4, 'notes': ''},\n",
    "        {'filename': 'platform_no_drv_owner.cocci', 'rel': 5, 'notes': ''},\n",
    "        {'filename': 'pm_runtime.cocci',            'rel': 4, 'notes': ''},\n",
    "        {'filename': 'ptr_ret.cocci',               'rel': 5, 'notes': ''},\n",
    "        {'filename': 'resource_size.cocci',         'rel': 4, 'notes': ''},\n",
    "        {'filename': 'setup_timer.cocci',           'rel': 6, 'notes': ''},\n",
    "        {'filename': 'simple_open.cocci',           'rel': 4, 'notes': ''},\n",
    "        {'filename': 'vma_pages.cocci',             'rel': 4, 'notes': ''},\n",
    "        {'filename': 'clk_put.cocci',               'rel': 4, 'notes': ''},\n",
    "        {'filename': 'devm_free.cocci',             'rel': 2, 'notes': 'Beware of false positives'},\n",
    "        {'filename': 'ifnulfree.cocci',             'rel': 7, 'notes': ''},\n",
    "        # TODO\n",
    "    ]\n",
    "}"
   ]
  },
  {
   "cell_type": "code",
   "execution_count": 14,
   "metadata": {},
   "outputs": [
    {
     "data": {
      "text/html": [
       "<div>\n",
       "<style>\n",
       "    .dataframe thead tr:only-child th {\n",
       "        text-align: right;\n",
       "    }\n",
       "\n",
       "    .dataframe thead th {\n",
       "        text-align: left;\n",
       "    }\n",
       "\n",
       "    .dataframe tbody tr th {\n",
       "        vertical-align: top;\n",
       "    }\n",
       "</style>\n",
       "<table border=\"1\" class=\"dataframe\">\n",
       "  <thead>\n",
       "    <tr style=\"text-align: right;\">\n",
       "      <th></th>\n",
       "      <th>filename</th>\n",
       "      <th>rel</th>\n",
       "      <th>notes</th>\n",
       "    </tr>\n",
       "  </thead>\n",
       "  <tbody>\n",
       "    <tr>\n",
       "      <th>0</th>\n",
       "      <td>alloc_cast.cocci</td>\n",
       "      <td>5</td>\n",
       "      <td></td>\n",
       "    </tr>\n",
       "    <tr>\n",
       "      <th>1</th>\n",
       "      <td>kzalloc-simple.cocci</td>\n",
       "      <td>5</td>\n",
       "      <td></td>\n",
       "    </tr>\n",
       "    <tr>\n",
       "      <th>2</th>\n",
       "      <td>pool_zalloc-simple.cocci</td>\n",
       "      <td>8</td>\n",
       "      <td></td>\n",
       "    </tr>\n",
       "    <tr>\n",
       "      <th>3</th>\n",
       "      <td>d_find_alias.cocci</td>\n",
       "      <td>3</td>\n",
       "      <td></td>\n",
       "    </tr>\n",
       "    <tr>\n",
       "      <th>4</th>\n",
       "      <td>debugfs_simple_attr.cocci</td>\n",
       "      <td>6</td>\n",
       "      <td></td>\n",
       "    </tr>\n",
       "    <tr>\n",
       "      <th>5</th>\n",
       "      <td>drm-get-pub.cocci</td>\n",
       "      <td>6</td>\n",
       "      <td></td>\n",
       "    </tr>\n",
       "    <tr>\n",
       "      <th>6</th>\n",
       "      <td>err_cast.cocci</td>\n",
       "      <td>5</td>\n",
       "      <td></td>\n",
       "    </tr>\n",
       "    <tr>\n",
       "      <th>7</th>\n",
       "      <td>kstrdup.cocci</td>\n",
       "      <td>4</td>\n",
       "      <td></td>\n",
       "    </tr>\n",
       "    <tr>\n",
       "      <th>8</th>\n",
       "      <td>memdup.cocci</td>\n",
       "      <td>4</td>\n",
       "      <td></td>\n",
       "    </tr>\n",
       "    <tr>\n",
       "      <th>9</th>\n",
       "      <td>memdup_user.cocci</td>\n",
       "      <td>4</td>\n",
       "      <td></td>\n",
       "    </tr>\n",
       "    <tr>\n",
       "      <th>10</th>\n",
       "      <td>platform_no_drv_owner.cocci</td>\n",
       "      <td>5</td>\n",
       "      <td></td>\n",
       "    </tr>\n",
       "    <tr>\n",
       "      <th>11</th>\n",
       "      <td>pm_runtime.cocci</td>\n",
       "      <td>4</td>\n",
       "      <td></td>\n",
       "    </tr>\n",
       "    <tr>\n",
       "      <th>12</th>\n",
       "      <td>ptr_ret.cocci</td>\n",
       "      <td>5</td>\n",
       "      <td></td>\n",
       "    </tr>\n",
       "    <tr>\n",
       "      <th>13</th>\n",
       "      <td>resource_size.cocci</td>\n",
       "      <td>4</td>\n",
       "      <td></td>\n",
       "    </tr>\n",
       "    <tr>\n",
       "      <th>14</th>\n",
       "      <td>setup_timer.cocci</td>\n",
       "      <td>6</td>\n",
       "      <td></td>\n",
       "    </tr>\n",
       "    <tr>\n",
       "      <th>15</th>\n",
       "      <td>simple_open.cocci</td>\n",
       "      <td>4</td>\n",
       "      <td></td>\n",
       "    </tr>\n",
       "    <tr>\n",
       "      <th>16</th>\n",
       "      <td>vma_pages.cocci</td>\n",
       "      <td>4</td>\n",
       "      <td></td>\n",
       "    </tr>\n",
       "    <tr>\n",
       "      <th>17</th>\n",
       "      <td>clk_put.cocci</td>\n",
       "      <td>4</td>\n",
       "      <td></td>\n",
       "    </tr>\n",
       "    <tr>\n",
       "      <th>18</th>\n",
       "      <td>devm_free.cocci</td>\n",
       "      <td>2</td>\n",
       "      <td>Beware of false positives</td>\n",
       "    </tr>\n",
       "    <tr>\n",
       "      <th>19</th>\n",
       "      <td>ifnulfree.cocci</td>\n",
       "      <td>7</td>\n",
       "      <td></td>\n",
       "    </tr>\n",
       "  </tbody>\n",
       "</table>\n",
       "</div>"
      ],
      "text/plain": [
       "                       filename  rel                      notes\n",
       "0              alloc_cast.cocci    5                           \n",
       "1          kzalloc-simple.cocci    5                           \n",
       "2      pool_zalloc-simple.cocci    8                           \n",
       "3            d_find_alias.cocci    3                           \n",
       "4     debugfs_simple_attr.cocci    6                           \n",
       "5             drm-get-pub.cocci    6                           \n",
       "6                err_cast.cocci    5                           \n",
       "7                 kstrdup.cocci    4                           \n",
       "8                  memdup.cocci    4                           \n",
       "9             memdup_user.cocci    4                           \n",
       "10  platform_no_drv_owner.cocci    5                           \n",
       "11             pm_runtime.cocci    4                           \n",
       "12                ptr_ret.cocci    5                           \n",
       "13          resource_size.cocci    4                           \n",
       "14            setup_timer.cocci    6                           \n",
       "15            simple_open.cocci    4                           \n",
       "16              vma_pages.cocci    4                           \n",
       "17                clk_put.cocci    4                           \n",
       "18              devm_free.cocci    2  Beware of false positives\n",
       "19              ifnulfree.cocci    7                           "
      ]
     },
     "execution_count": 14,
     "metadata": {},
     "output_type": "execute_result"
    }
   ],
   "source": [
    "data5_relevance = DataFrame(my_safetyrel_cocci['values'])\n",
    "data5_relevance = data5_relevance[['filename','rel', 'notes']]\n",
    "\n",
    "data5_relevance"
   ]
  },
  {
   "cell_type": "code",
   "execution_count": null,
   "metadata": {},
   "outputs": [],
   "source": []
  }
 ],
 "metadata": {
  "kernelspec": {
   "display_name": "Python 3",
   "language": "python",
   "name": "python3"
  },
  "language_info": {
   "codemirror_mode": {
    "name": "ipython",
    "version": 3
   },
   "file_extension": ".py",
   "mimetype": "text/x-python",
   "name": "python",
   "nbconvert_exporter": "python",
   "pygments_lexer": "ipython3",
   "version": "3.6.3"
  }
 },
 "nbformat": 4,
 "nbformat_minor": 2
}
